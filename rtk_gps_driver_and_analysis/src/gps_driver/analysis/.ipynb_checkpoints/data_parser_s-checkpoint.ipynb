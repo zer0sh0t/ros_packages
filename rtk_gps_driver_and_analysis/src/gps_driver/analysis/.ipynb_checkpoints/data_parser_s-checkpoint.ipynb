{
 "cells": [
  {
   "cell_type": "code",
   "execution_count": 1,
   "id": "5a2d9e53",
   "metadata": {},
   "outputs": [],
   "source": [
    "import bagpy\n",
    "import numpy as np\n",
    "import pandas as pd\n",
    "import seaborn as sns\n",
    "from bagpy import bagreader\n",
    "import matplotlib.pyplot as plt\n",
    "from sklearn.metrics import mean_squared_error"
   ]
  },
  {
   "cell_type": "code",
   "execution_count": 2,
   "id": "d9a41028",
   "metadata": {},
   "outputs": [
    {
     "name": "stdout",
     "output_type": "stream",
     "text": [
      "[INFO]  Successfully created the data folder ../data/stationary_bag.\n"
     ]
    }
   ],
   "source": [
    "b = bagreader('../data/stationary_bag.bag')\n",
    "gps_data = b.message_by_topic('/gps')\n",
    "df_gps = pd.read_csv(gps_data)"
   ]
  },
  {
   "cell_type": "code",
   "execution_count": 3,
   "id": "dff8f0c0",
   "metadata": {},
   "outputs": [
    {
     "data": {
      "text/html": [
       "<div>\n",
       "<style scoped>\n",
       "    .dataframe tbody tr th:only-of-type {\n",
       "        vertical-align: middle;\n",
       "    }\n",
       "\n",
       "    .dataframe tbody tr th {\n",
       "        vertical-align: top;\n",
       "    }\n",
       "\n",
       "    .dataframe thead th {\n",
       "        text-align: right;\n",
       "    }\n",
       "</style>\n",
       "<table border=\"1\" class=\"dataframe\">\n",
       "  <thead>\n",
       "    <tr style=\"text-align: right;\">\n",
       "      <th></th>\n",
       "      <th>Time</th>\n",
       "      <th>Header.seq</th>\n",
       "      <th>Header.stamp.secs</th>\n",
       "      <th>Header.stamp.nsecs</th>\n",
       "      <th>Header.frame_id</th>\n",
       "      <th>Latitude</th>\n",
       "      <th>Longitude</th>\n",
       "      <th>Altitude</th>\n",
       "      <th>UTM_easting</th>\n",
       "      <th>UTM_northing</th>\n",
       "      <th>Zone</th>\n",
       "      <th>Letter</th>\n",
       "    </tr>\n",
       "  </thead>\n",
       "  <tbody>\n",
       "    <tr>\n",
       "      <th>0</th>\n",
       "      <td>1.663976e+09</td>\n",
       "      <td>1</td>\n",
       "      <td>1663988961</td>\n",
       "      <td>0</td>\n",
       "      <td>GPS1_Frame</td>\n",
       "      <td>42.337269</td>\n",
       "      <td>-71.090042</td>\n",
       "      <td>13.9</td>\n",
       "      <td>327820.87500</td>\n",
       "      <td>4689339.5</td>\n",
       "      <td>19</td>\n",
       "      <td>T</td>\n",
       "    </tr>\n",
       "    <tr>\n",
       "      <th>1</th>\n",
       "      <td>1.663976e+09</td>\n",
       "      <td>2</td>\n",
       "      <td>1663988962</td>\n",
       "      <td>0</td>\n",
       "      <td>GPS1_Frame</td>\n",
       "      <td>42.337269</td>\n",
       "      <td>-71.090050</td>\n",
       "      <td>13.9</td>\n",
       "      <td>327820.71875</td>\n",
       "      <td>4689339.5</td>\n",
       "      <td>19</td>\n",
       "      <td>T</td>\n",
       "    </tr>\n",
       "    <tr>\n",
       "      <th>2</th>\n",
       "      <td>1.663976e+09</td>\n",
       "      <td>3</td>\n",
       "      <td>1663988963</td>\n",
       "      <td>0</td>\n",
       "      <td>GPS1_Frame</td>\n",
       "      <td>42.337269</td>\n",
       "      <td>-71.090050</td>\n",
       "      <td>13.9</td>\n",
       "      <td>327820.71875</td>\n",
       "      <td>4689339.5</td>\n",
       "      <td>19</td>\n",
       "      <td>T</td>\n",
       "    </tr>\n",
       "    <tr>\n",
       "      <th>3</th>\n",
       "      <td>1.663976e+09</td>\n",
       "      <td>4</td>\n",
       "      <td>1663988964</td>\n",
       "      <td>0</td>\n",
       "      <td>GPS1_Frame</td>\n",
       "      <td>42.337273</td>\n",
       "      <td>-71.090050</td>\n",
       "      <td>13.5</td>\n",
       "      <td>327820.46875</td>\n",
       "      <td>4689340.0</td>\n",
       "      <td>19</td>\n",
       "      <td>T</td>\n",
       "    </tr>\n",
       "    <tr>\n",
       "      <th>4</th>\n",
       "      <td>1.663976e+09</td>\n",
       "      <td>5</td>\n",
       "      <td>1663988965</td>\n",
       "      <td>0</td>\n",
       "      <td>GPS1_Frame</td>\n",
       "      <td>42.337273</td>\n",
       "      <td>-71.090050</td>\n",
       "      <td>13.5</td>\n",
       "      <td>327820.46875</td>\n",
       "      <td>4689340.0</td>\n",
       "      <td>19</td>\n",
       "      <td>T</td>\n",
       "    </tr>\n",
       "    <tr>\n",
       "      <th>...</th>\n",
       "      <td>...</td>\n",
       "      <td>...</td>\n",
       "      <td>...</td>\n",
       "      <td>...</td>\n",
       "      <td>...</td>\n",
       "      <td>...</td>\n",
       "      <td>...</td>\n",
       "      <td>...</td>\n",
       "      <td>...</td>\n",
       "      <td>...</td>\n",
       "      <td>...</td>\n",
       "      <td>...</td>\n",
       "    </tr>\n",
       "    <tr>\n",
       "      <th>639</th>\n",
       "      <td>1.663976e+09</td>\n",
       "      <td>640</td>\n",
       "      <td>1663988940</td>\n",
       "      <td>0</td>\n",
       "      <td>GPS1_Frame</td>\n",
       "      <td>42.337280</td>\n",
       "      <td>-71.090050</td>\n",
       "      <td>12.2</td>\n",
       "      <td>327820.75000</td>\n",
       "      <td>4689341.0</td>\n",
       "      <td>19</td>\n",
       "      <td>T</td>\n",
       "    </tr>\n",
       "    <tr>\n",
       "      <th>640</th>\n",
       "      <td>1.663976e+09</td>\n",
       "      <td>641</td>\n",
       "      <td>1663988941</td>\n",
       "      <td>0</td>\n",
       "      <td>GPS1_Frame</td>\n",
       "      <td>42.337280</td>\n",
       "      <td>-71.090050</td>\n",
       "      <td>12.2</td>\n",
       "      <td>327820.75000</td>\n",
       "      <td>4689341.0</td>\n",
       "      <td>19</td>\n",
       "      <td>T</td>\n",
       "    </tr>\n",
       "    <tr>\n",
       "      <th>641</th>\n",
       "      <td>1.663976e+09</td>\n",
       "      <td>642</td>\n",
       "      <td>1663988942</td>\n",
       "      <td>0</td>\n",
       "      <td>GPS1_Frame</td>\n",
       "      <td>42.337280</td>\n",
       "      <td>-71.090050</td>\n",
       "      <td>12.2</td>\n",
       "      <td>327820.75000</td>\n",
       "      <td>4689341.0</td>\n",
       "      <td>19</td>\n",
       "      <td>T</td>\n",
       "    </tr>\n",
       "    <tr>\n",
       "      <th>642</th>\n",
       "      <td>1.663976e+09</td>\n",
       "      <td>643</td>\n",
       "      <td>1663988943</td>\n",
       "      <td>0</td>\n",
       "      <td>GPS1_Frame</td>\n",
       "      <td>42.337280</td>\n",
       "      <td>-71.090050</td>\n",
       "      <td>12.2</td>\n",
       "      <td>327820.75000</td>\n",
       "      <td>4689341.0</td>\n",
       "      <td>19</td>\n",
       "      <td>T</td>\n",
       "    </tr>\n",
       "    <tr>\n",
       "      <th>643</th>\n",
       "      <td>1.663976e+09</td>\n",
       "      <td>644</td>\n",
       "      <td>1663988944</td>\n",
       "      <td>0</td>\n",
       "      <td>GPS1_Frame</td>\n",
       "      <td>42.337280</td>\n",
       "      <td>-71.090050</td>\n",
       "      <td>12.2</td>\n",
       "      <td>327820.75000</td>\n",
       "      <td>4689341.0</td>\n",
       "      <td>19</td>\n",
       "      <td>T</td>\n",
       "    </tr>\n",
       "  </tbody>\n",
       "</table>\n",
       "<p>644 rows × 12 columns</p>\n",
       "</div>"
      ],
      "text/plain": [
       "             Time  Header.seq  Header.stamp.secs  Header.stamp.nsecs  \\\n",
       "0    1.663976e+09           1         1663988961                   0   \n",
       "1    1.663976e+09           2         1663988962                   0   \n",
       "2    1.663976e+09           3         1663988963                   0   \n",
       "3    1.663976e+09           4         1663988964                   0   \n",
       "4    1.663976e+09           5         1663988965                   0   \n",
       "..            ...         ...                ...                 ...   \n",
       "639  1.663976e+09         640         1663988940                   0   \n",
       "640  1.663976e+09         641         1663988941                   0   \n",
       "641  1.663976e+09         642         1663988942                   0   \n",
       "642  1.663976e+09         643         1663988943                   0   \n",
       "643  1.663976e+09         644         1663988944                   0   \n",
       "\n",
       "    Header.frame_id   Latitude  Longitude  Altitude   UTM_easting  \\\n",
       "0        GPS1_Frame  42.337269 -71.090042      13.9  327820.87500   \n",
       "1        GPS1_Frame  42.337269 -71.090050      13.9  327820.71875   \n",
       "2        GPS1_Frame  42.337269 -71.090050      13.9  327820.71875   \n",
       "3        GPS1_Frame  42.337273 -71.090050      13.5  327820.46875   \n",
       "4        GPS1_Frame  42.337273 -71.090050      13.5  327820.46875   \n",
       "..              ...        ...        ...       ...           ...   \n",
       "639      GPS1_Frame  42.337280 -71.090050      12.2  327820.75000   \n",
       "640      GPS1_Frame  42.337280 -71.090050      12.2  327820.75000   \n",
       "641      GPS1_Frame  42.337280 -71.090050      12.2  327820.75000   \n",
       "642      GPS1_Frame  42.337280 -71.090050      12.2  327820.75000   \n",
       "643      GPS1_Frame  42.337280 -71.090050      12.2  327820.75000   \n",
       "\n",
       "     UTM_northing  Zone Letter  \n",
       "0       4689339.5    19      T  \n",
       "1       4689339.5    19      T  \n",
       "2       4689339.5    19      T  \n",
       "3       4689340.0    19      T  \n",
       "4       4689340.0    19      T  \n",
       "..            ...   ...    ...  \n",
       "639     4689341.0    19      T  \n",
       "640     4689341.0    19      T  \n",
       "641     4689341.0    19      T  \n",
       "642     4689341.0    19      T  \n",
       "643     4689341.0    19      T  \n",
       "\n",
       "[644 rows x 12 columns]"
      ]
     },
     "execution_count": 3,
     "metadata": {},
     "output_type": "execute_result"
    }
   ],
   "source": [
    "df_gps"
   ]
  },
  {
   "cell_type": "code",
   "execution_count": 4,
   "id": "f7db8cfe",
   "metadata": {},
   "outputs": [],
   "source": [
    "df_gps['Time'] = df_gps['Time'] - min(df_gps['Time'])"
   ]
  },
  {
   "cell_type": "code",
   "execution_count": 5,
   "id": "4c569a51",
   "metadata": {},
   "outputs": [],
   "source": [
    "df_gps['UTM_easting'] = df_gps['UTM_easting'] - np.mean(df_gps['UTM_easting'])"
   ]
  },
  {
   "cell_type": "code",
   "execution_count": 6,
   "id": "330c6d39",
   "metadata": {},
   "outputs": [],
   "source": [
    "df_gps['UTM_northing'] = df_gps['UTM_northing'] - np.mean(df_gps['UTM_northing'])"
   ]
  },
  {
   "cell_type": "code",
   "execution_count": 7,
   "id": "966b7bb8",
   "metadata": {},
   "outputs": [
    {
     "data": {
      "text/html": [
       "<div>\n",
       "<style scoped>\n",
       "    .dataframe tbody tr th:only-of-type {\n",
       "        vertical-align: middle;\n",
       "    }\n",
       "\n",
       "    .dataframe tbody tr th {\n",
       "        vertical-align: top;\n",
       "    }\n",
       "\n",
       "    .dataframe thead th {\n",
       "        text-align: right;\n",
       "    }\n",
       "</style>\n",
       "<table border=\"1\" class=\"dataframe\">\n",
       "  <thead>\n",
       "    <tr style=\"text-align: right;\">\n",
       "      <th></th>\n",
       "      <th>Time</th>\n",
       "      <th>Header.seq</th>\n",
       "      <th>Header.stamp.secs</th>\n",
       "      <th>Header.stamp.nsecs</th>\n",
       "      <th>Header.frame_id</th>\n",
       "      <th>Latitude</th>\n",
       "      <th>Longitude</th>\n",
       "      <th>Altitude</th>\n",
       "      <th>UTM_easting</th>\n",
       "      <th>UTM_northing</th>\n",
       "      <th>Zone</th>\n",
       "      <th>Letter</th>\n",
       "    </tr>\n",
       "  </thead>\n",
       "  <tbody>\n",
       "    <tr>\n",
       "      <th>0</th>\n",
       "      <td>0.000000</td>\n",
       "      <td>1</td>\n",
       "      <td>1663988961</td>\n",
       "      <td>0</td>\n",
       "      <td>GPS1_Frame</td>\n",
       "      <td>42.337269</td>\n",
       "      <td>-71.090042</td>\n",
       "      <td>13.9</td>\n",
       "      <td>0.451912</td>\n",
       "      <td>-0.589286</td>\n",
       "      <td>19</td>\n",
       "      <td>T</td>\n",
       "    </tr>\n",
       "    <tr>\n",
       "      <th>1</th>\n",
       "      <td>1.000334</td>\n",
       "      <td>2</td>\n",
       "      <td>1663988962</td>\n",
       "      <td>0</td>\n",
       "      <td>GPS1_Frame</td>\n",
       "      <td>42.337269</td>\n",
       "      <td>-71.090050</td>\n",
       "      <td>13.9</td>\n",
       "      <td>0.295662</td>\n",
       "      <td>-0.589286</td>\n",
       "      <td>19</td>\n",
       "      <td>T</td>\n",
       "    </tr>\n",
       "    <tr>\n",
       "      <th>2</th>\n",
       "      <td>2.000198</td>\n",
       "      <td>3</td>\n",
       "      <td>1663988963</td>\n",
       "      <td>0</td>\n",
       "      <td>GPS1_Frame</td>\n",
       "      <td>42.337269</td>\n",
       "      <td>-71.090050</td>\n",
       "      <td>13.9</td>\n",
       "      <td>0.295662</td>\n",
       "      <td>-0.589286</td>\n",
       "      <td>19</td>\n",
       "      <td>T</td>\n",
       "    </tr>\n",
       "    <tr>\n",
       "      <th>3</th>\n",
       "      <td>3.013580</td>\n",
       "      <td>4</td>\n",
       "      <td>1663988964</td>\n",
       "      <td>0</td>\n",
       "      <td>GPS1_Frame</td>\n",
       "      <td>42.337273</td>\n",
       "      <td>-71.090050</td>\n",
       "      <td>13.5</td>\n",
       "      <td>0.045662</td>\n",
       "      <td>-0.089286</td>\n",
       "      <td>19</td>\n",
       "      <td>T</td>\n",
       "    </tr>\n",
       "    <tr>\n",
       "      <th>4</th>\n",
       "      <td>4.000238</td>\n",
       "      <td>5</td>\n",
       "      <td>1663988965</td>\n",
       "      <td>0</td>\n",
       "      <td>GPS1_Frame</td>\n",
       "      <td>42.337273</td>\n",
       "      <td>-71.090050</td>\n",
       "      <td>13.5</td>\n",
       "      <td>0.045662</td>\n",
       "      <td>-0.089286</td>\n",
       "      <td>19</td>\n",
       "      <td>T</td>\n",
       "    </tr>\n",
       "    <tr>\n",
       "      <th>...</th>\n",
       "      <td>...</td>\n",
       "      <td>...</td>\n",
       "      <td>...</td>\n",
       "      <td>...</td>\n",
       "      <td>...</td>\n",
       "      <td>...</td>\n",
       "      <td>...</td>\n",
       "      <td>...</td>\n",
       "      <td>...</td>\n",
       "      <td>...</td>\n",
       "      <td>...</td>\n",
       "      <td>...</td>\n",
       "    </tr>\n",
       "    <tr>\n",
       "      <th>639</th>\n",
       "      <td>638.992266</td>\n",
       "      <td>640</td>\n",
       "      <td>1663988940</td>\n",
       "      <td>0</td>\n",
       "      <td>GPS1_Frame</td>\n",
       "      <td>42.337280</td>\n",
       "      <td>-71.090050</td>\n",
       "      <td>12.2</td>\n",
       "      <td>0.326912</td>\n",
       "      <td>0.910714</td>\n",
       "      <td>19</td>\n",
       "      <td>T</td>\n",
       "    </tr>\n",
       "    <tr>\n",
       "      <th>640</th>\n",
       "      <td>639.991276</td>\n",
       "      <td>641</td>\n",
       "      <td>1663988941</td>\n",
       "      <td>0</td>\n",
       "      <td>GPS1_Frame</td>\n",
       "      <td>42.337280</td>\n",
       "      <td>-71.090050</td>\n",
       "      <td>12.2</td>\n",
       "      <td>0.326912</td>\n",
       "      <td>0.910714</td>\n",
       "      <td>19</td>\n",
       "      <td>T</td>\n",
       "    </tr>\n",
       "    <tr>\n",
       "      <th>641</th>\n",
       "      <td>641.028013</td>\n",
       "      <td>642</td>\n",
       "      <td>1663988942</td>\n",
       "      <td>0</td>\n",
       "      <td>GPS1_Frame</td>\n",
       "      <td>42.337280</td>\n",
       "      <td>-71.090050</td>\n",
       "      <td>12.2</td>\n",
       "      <td>0.326912</td>\n",
       "      <td>0.910714</td>\n",
       "      <td>19</td>\n",
       "      <td>T</td>\n",
       "    </tr>\n",
       "    <tr>\n",
       "      <th>642</th>\n",
       "      <td>641.992051</td>\n",
       "      <td>643</td>\n",
       "      <td>1663988943</td>\n",
       "      <td>0</td>\n",
       "      <td>GPS1_Frame</td>\n",
       "      <td>42.337280</td>\n",
       "      <td>-71.090050</td>\n",
       "      <td>12.2</td>\n",
       "      <td>0.326912</td>\n",
       "      <td>0.910714</td>\n",
       "      <td>19</td>\n",
       "      <td>T</td>\n",
       "    </tr>\n",
       "    <tr>\n",
       "      <th>643</th>\n",
       "      <td>643.028217</td>\n",
       "      <td>644</td>\n",
       "      <td>1663988944</td>\n",
       "      <td>0</td>\n",
       "      <td>GPS1_Frame</td>\n",
       "      <td>42.337280</td>\n",
       "      <td>-71.090050</td>\n",
       "      <td>12.2</td>\n",
       "      <td>0.326912</td>\n",
       "      <td>0.910714</td>\n",
       "      <td>19</td>\n",
       "      <td>T</td>\n",
       "    </tr>\n",
       "  </tbody>\n",
       "</table>\n",
       "<p>644 rows × 12 columns</p>\n",
       "</div>"
      ],
      "text/plain": [
       "           Time  Header.seq  Header.stamp.secs  Header.stamp.nsecs  \\\n",
       "0      0.000000           1         1663988961                   0   \n",
       "1      1.000334           2         1663988962                   0   \n",
       "2      2.000198           3         1663988963                   0   \n",
       "3      3.013580           4         1663988964                   0   \n",
       "4      4.000238           5         1663988965                   0   \n",
       "..          ...         ...                ...                 ...   \n",
       "639  638.992266         640         1663988940                   0   \n",
       "640  639.991276         641         1663988941                   0   \n",
       "641  641.028013         642         1663988942                   0   \n",
       "642  641.992051         643         1663988943                   0   \n",
       "643  643.028217         644         1663988944                   0   \n",
       "\n",
       "    Header.frame_id   Latitude  Longitude  Altitude  UTM_easting  \\\n",
       "0        GPS1_Frame  42.337269 -71.090042      13.9     0.451912   \n",
       "1        GPS1_Frame  42.337269 -71.090050      13.9     0.295662   \n",
       "2        GPS1_Frame  42.337269 -71.090050      13.9     0.295662   \n",
       "3        GPS1_Frame  42.337273 -71.090050      13.5     0.045662   \n",
       "4        GPS1_Frame  42.337273 -71.090050      13.5     0.045662   \n",
       "..              ...        ...        ...       ...          ...   \n",
       "639      GPS1_Frame  42.337280 -71.090050      12.2     0.326912   \n",
       "640      GPS1_Frame  42.337280 -71.090050      12.2     0.326912   \n",
       "641      GPS1_Frame  42.337280 -71.090050      12.2     0.326912   \n",
       "642      GPS1_Frame  42.337280 -71.090050      12.2     0.326912   \n",
       "643      GPS1_Frame  42.337280 -71.090050      12.2     0.326912   \n",
       "\n",
       "     UTM_northing  Zone Letter  \n",
       "0       -0.589286    19      T  \n",
       "1       -0.589286    19      T  \n",
       "2       -0.589286    19      T  \n",
       "3       -0.089286    19      T  \n",
       "4       -0.089286    19      T  \n",
       "..            ...   ...    ...  \n",
       "639      0.910714    19      T  \n",
       "640      0.910714    19      T  \n",
       "641      0.910714    19      T  \n",
       "642      0.910714    19      T  \n",
       "643      0.910714    19      T  \n",
       "\n",
       "[644 rows x 12 columns]"
      ]
     },
     "execution_count": 7,
     "metadata": {},
     "output_type": "execute_result"
    }
   ],
   "source": [
    "df_gps"
   ]
  },
  {
   "cell_type": "code",
   "execution_count": 8,
   "id": "404eb733",
   "metadata": {},
   "outputs": [],
   "source": [
    "def plot_graph(xax, yax, scatter=False):\n",
    "    if scatter:\n",
    "        plt.scatter(df_gps[xax].tolist(), df_gps[yax].tolist())\n",
    "    else:\n",
    "        plt.plot(df_gps[xax].tolist(), df_gps[yax].tolist())\n",
    "    plt.xlabel(xax)\n",
    "    plt.ylabel(yax)\n",
    "    plt.title(f'{yax} vs {xax}')\n",
    "    plt.show()"
   ]
  },
  {
   "cell_type": "code",
   "execution_count": 9,
   "id": "df3aa395",
   "metadata": {},
   "outputs": [
    {
     "data": {
      "image/png": "[encoded data removed]",
      "text/plain": [
       "<Figure size 640x480 with 1 Axes>"
      ]
     },
     "metadata": {},
     "output_type": "display_data"
    }
   ],
   "source": [
    "plot_graph('UTM_northing', 'UTM_easting', True)"
   ]
  },
  {
   "cell_type": "code",
   "execution_count": 10,
   "id": "1c190bda",
   "metadata": {},
   "outputs": [],
   "source": [
    "def get_rsme(col_name):\n",
    "    col = np.mean(df_gps[col_name])\n",
    "    col_rsme = np.sqrt(np.square(df_gps[col_name] - col).mean())\n",
    "    return col_rsme"
   ]
  },
  {
   "cell_type": "code",
   "execution_count": 11,
   "id": "533b676b",
   "metadata": {},
   "outputs": [
    {
     "data": {
      "text/plain": [
       "0.16409844836448423"
      ]
     },
     "execution_count": 11,
     "metadata": {},
     "output_type": "execute_result"
    }
   ],
   "source": [
    "get_rsme('UTM_easting')"
   ]
  },
  {
   "cell_type": "code",
   "execution_count": 12,
   "id": "33f0338c",
   "metadata": {},
   "outputs": [
    {
     "data": {
      "text/plain": [
       "0.22157003095137695"
      ]
     },
     "execution_count": 12,
     "metadata": {},
     "output_type": "execute_result"
    }
   ],
   "source": [
    "get_rsme('UTM_northing')"
   ]
  },
  {
   "cell_type": "code",
   "execution_count": 13,
   "id": "fe593e3b",
   "metadata": {},
   "outputs": [
    {
     "data": {
      "image/png": "[encoded data removed]",
      "text/plain": [
       "<Figure size 640x480 with 1 Axes>"
      ]
     },
     "metadata": {},
     "output_type": "display_data"
    }
   ],
   "source": [
    "plot_graph('Time', 'Altitude')"
   ]
  },
  {
   "cell_type": "code",
   "execution_count": 14,
   "id": "7b3381e7",
   "metadata": {},
   "outputs": [
    {
     "data": {
      "text/plain": [
       "<seaborn.axisgrid.FacetGrid at 0x7f563f9804f0>"
      ]
     },
     "execution_count": 14,
     "metadata": {},
     "output_type": "execute_result"
    },
    {
     "data": {
      "image/png": "[encoded data removed]",
      "text/plain": [
       "<Figure size 750x500 with 1 Axes>"
      ]
     },
     "metadata": {},
     "output_type": "display_data"
    }
   ],
   "source": [
    "sns.set_style('white')\n",
    "sns.set_context(\"paper\", font_scale = 2)\n",
    "sns.displot(data=df_gps, x=\"UTM_easting\", kind=\"hist\", bins=100, aspect=1.5).set(title='error distribution of UTM_easting')"
   ]
  },
  {
   "cell_type": "code",
   "execution_count": 15,
   "id": "8a54c2c6",
   "metadata": {},
   "outputs": [
    {
     "data": {
      "text/plain": [
       "<seaborn.axisgrid.FacetGrid at 0x7f563f68a910>"
      ]
     },
     "execution_count": 15,
     "metadata": {},
     "output_type": "execute_result"
    },
    {
     "data": {
      "image/png": "[encoded data removed]",
      "text/plain": [
       "<Figure size 750x500 with 1 Axes>"
      ]
     },
     "metadata": {},
     "output_type": "display_data"
    }
   ],
   "source": [
    "sns.displot(data=df_gps, x=\"UTM_northing\", kind=\"hist\", bins=100, aspect=1.5).set(title='error distribution of UTM_northing')"
   ]
  },
  {
   "cell_type": "code",
   "execution_count": 16,
   "id": "f29f3808",
   "metadata": {},
   "outputs": [
    {
     "data": {
      "text/plain": [
       "<seaborn.axisgrid.FacetGrid at 0x7f56783e92b0>"
      ]
     },
     "execution_count": 16,
     "metadata": {},
     "output_type": "execute_result"
    },
    {
     "data": {
      "image/png": "[encoded data removed]",
      "text/plain": [
       "<Figure size 750x500 with 1 Axes>"
      ]
     },
     "metadata": {},
     "output_type": "display_data"
    }
   ],
   "source": [
    "sns.displot(data=df_gps, x=\"Altitude\", kind=\"hist\", bins=100, aspect=1.5).set(title='error distribution of Altitude')"
   ]
  },
  {
   "cell_type": "code",
   "execution_count": 17,
   "id": "018f8334",
   "metadata": {},
   "outputs": [],
   "source": [
    "def get_bounds(col_name):\n",
    "    col = df_gps[col_name].tolist()\n",
    "    mean = np.mean(col)\n",
    "    ub = max(col) - np.mean(col)\n",
    "    lb = np.mean(col) - min(col)\n",
    "    print(f'upper bound : {ub}')\n",
    "    print(f'mean: {mean}')\n",
    "    print(f'lower bound : {lb}')"
   ]
  },
  {
   "cell_type": "code",
   "execution_count": 18,
   "id": "69255646",
   "metadata": {},
   "outputs": [
    {
     "name": "stdout",
     "output_type": "stream",
     "text": [
      "upper bound : 0.4519118788819876\n",
      "mean: 6.507688797778965e-12\n",
      "lower bound : 0.23558812111801242\n"
     ]
    }
   ],
   "source": [
    "get_bounds('UTM_easting')"
   ]
  },
  {
   "cell_type": "code",
   "execution_count": 19,
   "id": "d18c9269",
   "metadata": {},
   "outputs": [
    {
     "name": "stdout",
     "output_type": "stream",
     "text": [
      "upper bound : 0.9107142857142857\n",
      "mean: -2.66092164175851e-10\n",
      "lower bound : 0.5892857142857143\n"
     ]
    }
   ],
   "source": [
    "get_bounds('UTM_northing')"
   ]
  },
  {
   "cell_type": "code",
   "execution_count": 20,
   "id": "f8c302e2",
   "metadata": {},
   "outputs": [
    {
     "name": "stdout",
     "output_type": "stream",
     "text": [
      "upper bound : 0.8256206941900768\n",
      "mean: 13.074378924340195\n",
      "lower bound : 0.8743791150750582\n"
     ]
    }
   ],
   "source": [
    "get_bounds('Altitude')"
   ]
  },
  {
   "cell_type": "code",
   "execution_count": null,
   "id": "173c24b3",
   "metadata": {},
   "outputs": [],
   "source": []
  }
 ],
 "metadata": {
  "kernelspec": {
   "display_name": "Python 3 (ipykernel)",
   "language": "python",
   "name": "python3"
  },
  "language_info": {
   "codemirror_mode": {
    "name": "ipython",
    "version": 3
   },
   "file_extension": ".py",
   "mimetype": "text/x-python",
   "name": "python",
   "nbconvert_exporter": "python",
   "pygments_lexer": "ipython3",
   "version": "3.8.10"
  }
 },
 "nbformat": 4,
 "nbformat_minor": 5
}
